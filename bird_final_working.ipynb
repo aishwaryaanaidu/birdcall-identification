{
  "nbformat": 4,
  "nbformat_minor": 0,
  "metadata": {
    "colab": {
      "name": "Untitled0.ipynb",
      "provenance": [],
      "collapsed_sections": [],
      "authorship_tag": "ABX9TyMDbUc9Dq3qYq31tluFZXbC",
      "include_colab_link": true
    },
    "kernelspec": {
      "name": "python3",
      "display_name": "Python 3"
    },
    "language_info": {
      "name": "python"
    }
  },
  "cells": [
    {
      "cell_type": "markdown",
      "metadata": {
        "id": "view-in-github",
        "colab_type": "text"
      },
      "source": [
        "<a href=\"https://colab.research.google.com/github/aishwaryaanaidu/birdcall-identification/blob/main/bird_final_working.ipynb\" target=\"_parent\"><img src=\"https://colab.research.google.com/assets/colab-badge.svg\" alt=\"Open In Colab\"/></a>"
      ]
    },
    {
      "cell_type": "code",
      "metadata": {
        "id": "-_uZdAfWiqBE"
      },
      "source": [
        "import librosa, librosa.display\n",
        "import os\n",
        "from matplotlib import pyplot as plt\n",
        "import IPython.display as ipd\n",
        "import numpy as np\n",
        "import torch\n",
        "# matplotlib inline\n",
        "from pydub import AudioSegment\n",
        "# import FigureCanvasAgg as FigureCanvas\n",
        "from os import path\n",
        "import subprocess\n",
        "import csv\n",
        "from csv import writer\n",
        "\n",
        "#Keras imports\n",
        "import keras\n",
        "from keras.models import Sequential\n",
        "from keras.layers import Dense, Conv2D, Dropout, Flatten, MaxPooling2D\n",
        "from keras.models import model_from_json\n",
        "import pandas as pd\n",
        "from PIL import Image\n",
        "from keras.utils import np_utils\n",
        "from sklearn import preprocessing\n",
        "from matplotlib.image import imread\n",
        "\n",
        "imheight = 360\n",
        "imwidth = 540\n",
        "\n",
        "le = preprocessing.LabelEncoder()"
      ],
      "execution_count": 1,
      "outputs": []
    },
    {
      "cell_type": "code",
      "metadata": {
        "colab": {
          "base_uri": "https://localhost:8080/"
        },
        "id": "5nDHMLEqiwjV",
        "outputId": "4bda3877-cf32-45a8-ca37-059c30b649cf"
      },
      "source": [
        "pip install matplotlib"
      ],
      "execution_count": 2,
      "outputs": [
        {
          "output_type": "stream",
          "name": "stdout",
          "text": [
            "Requirement already satisfied: matplotlib in /usr/local/lib/python3.7/dist-packages (3.2.2)\n",
            "Requirement already satisfied: cycler>=0.10 in /usr/local/lib/python3.7/dist-packages (from matplotlib) (0.11.0)\n",
            "Requirement already satisfied: pyparsing!=2.0.4,!=2.1.2,!=2.1.6,>=2.0.1 in /usr/local/lib/python3.7/dist-packages (from matplotlib) (3.0.6)\n",
            "Requirement already satisfied: kiwisolver>=1.0.1 in /usr/local/lib/python3.7/dist-packages (from matplotlib) (1.3.2)\n",
            "Requirement already satisfied: numpy>=1.11 in /usr/local/lib/python3.7/dist-packages (from matplotlib) (1.19.5)\n",
            "Requirement already satisfied: python-dateutil>=2.1 in /usr/local/lib/python3.7/dist-packages (from matplotlib) (2.8.2)\n",
            "Requirement already satisfied: six>=1.5 in /usr/local/lib/python3.7/dist-packages (from python-dateutil>=2.1->matplotlib) (1.15.0)\n"
          ]
        }
      ]
    },
    {
      "cell_type": "code",
      "metadata": {
        "id": "bvB4h0oVi75W"
      },
      "source": [
        "def create_spectrogram():\n",
        "    # imheight = 50\n",
        "    # imwidth = 34\n",
        "    train_dir = \"drive/MyDrive/Colab Notebooks/Spectrograms/train_spectr\"\n",
        "    test_dir = \"drive/MyDrive/Colab Notebooks/Spectrograms/test_spectr\"\n",
        "    # os.mkdir(train_dir)\n",
        "    # os.mkdir(test_dir)\n",
        "    train_list = [[\"path\", \"label\"]]\n",
        "    test_list = [[\"path\", \"label\"]]\n",
        "    for bird in os.listdir(directory):\n",
        "        dir_len = len(os.listdir(directory + \"/\" + bird)[:15])\n",
        "        train_count = round(dir_len * 0.7)\n",
        "        count = 1\n",
        "        for filename in os.listdir(directory + \"/\" + bird)[:15]:\n",
        "            if count <= train_count:\n",
        "                new_dir = train_dir\n",
        "                train_list.append([new_dir + \"/\" + filename.split(\".\")[0] + \".png\", bird])\n",
        "            else:\n",
        "                new_dir = test_dir\n",
        "                test_list.append([new_dir + \"/\" + filename.split(\".\")[0] + \".png\", bird])\n",
        "            src = directory + \"/\" + bird + \"/\" + filename\n",
        "            save_path = new_dir + \"/\" + filename.split(\".\")[0] + \".png\"\n",
        "            # print(src)\n",
        "            # print(save_path)\n",
        "\n",
        "            dst = \"test.wav\"\n",
        "            # params\n",
        "            sampling = 21952\n",
        "            hop_length = 245\n",
        "            n_mels = 224\n",
        "            n_fft = 892\n",
        "            win_length = n_fft\n",
        "            plt.rcParams[\"figure.figsize\"] = [7.50, 5.00]\n",
        "            plt.rcParams[\"figure.autolayout\"] = True\n",
        "\n",
        "            # convert mp3 to wav\n",
        "            sound = AudioSegment.from_mp3(src)\n",
        "            sound.export(dst, format=\"wav\")\n",
        "            signal, Fs = librosa.load(dst, sr=21952)\n",
        "\n",
        "            # Load signal and plot\n",
        "            signal,Fs = librosa.load(dst,sr=sampling,mono=True,res_type=\"kaiser_fast\")\n",
        "            plt.axis('off')\n",
        "\n",
        "            # Create spectrogram and plot\n",
        "            spectr = librosa.feature.melspectrogram(signal, sr=sampling, n_mels=n_mels, n_fft=n_fft, hop_length=hop_length,\n",
        "                                                    win_length=win_length, fmin=300)\n",
        "            log_spectr = librosa.amplitude_to_db(spectr)\n",
        "\n",
        "            librosa.display.specshow(log_spectr, sr=sampling, hop_length=hop_length)\n",
        "            # plt.savefig(save_path)\n",
        "            \n",
        "            # gray = Image.open(save_path).convert('L')\n",
        "            # gray.save(save_path)\n",
        "            \n",
        "\n",
        "            count += 1\n",
        "    return train_list, test_list"
      ],
      "execution_count": 3,
      "outputs": []
    },
    {
      "cell_type": "code",
      "metadata": {
        "id": "giFwgjVQjhww",
        "colab": {
          "base_uri": "https://localhost:8080/"
        },
        "outputId": "c5b09007-3f38-4f23-8a39-817d8f7ee3b3"
      },
      "source": [
        "from google.colab import drive\n",
        "drive.mount('/content/drive')"
      ],
      "execution_count": 4,
      "outputs": [
        {
          "output_type": "stream",
          "name": "stdout",
          "text": [
            "Drive already mounted at /content/drive; to attempt to forcibly remount, call drive.mount(\"/content/drive\", force_remount=True).\n"
          ]
        }
      ]
    },
    {
      "cell_type": "code",
      "metadata": {
        "id": "XJcLBIFlmrX_"
      },
      "source": [
        "def list_to_csv(train_lis, test_lis):\n",
        "    file1 = open('train.csv', 'w+', newline = '')\n",
        "    file2 = open('test.csv', 'w+', newline = '')\n",
        "    with file1:\n",
        "        write = csv.writer(file1)\n",
        "        write.writerows(train_lis)\n",
        "    with file2:\n",
        "        write = csv.writer(file2)\n",
        "        write.writerows(test_lis)"
      ],
      "execution_count": 5,
      "outputs": []
    },
    {
      "cell_type": "code",
      "metadata": {
        "id": "osinTwi2qMvL"
      },
      "source": [
        "def img_to_numpy_array(path):\n",
        "    return imread(path)"
      ],
      "execution_count": 6,
      "outputs": []
    },
    {
      "cell_type": "code",
      "metadata": {
        "id": "TqnJQZgbpn2B"
      },
      "source": [
        "def create_train_test(trl, tel):\n",
        "    train = pd.read_csv(\"train.csv\")\n",
        "    test = pd.read_csv(\"test.csv\")\n",
        "    # y_test = np.zeros(len(tel[1:]), str)\n",
        "    # y_train = np.zeros(len(trl[1:]), str)\n",
        "    y_test = np.empty((len(tel[1:]), 1), dtype=np.dtype('U100'))\n",
        "    y_train = np.empty((len(trl[1:]), 1), dtype=np.dtype('U100'))\n",
        "    x_train = np.zeros((len(trl[1:]), imheight, imwidth))\n",
        "    x_test = np.zeros((len(tel[1:]), imheight, imwidth))\n",
        "\n",
        "    print(\"Shape {}\".format(y_train.shape))\n",
        "\n",
        "    for i, f in enumerate(tel[1:]):\n",
        "        y_test[i]     = f[1]\n",
        "        x_test[i,:,:] = img_to_numpy_array(f[0])\n",
        "\n",
        "    for i, f in enumerate(trl[1:]):\n",
        "        y_train[i]     = f[1]\n",
        "        x_train[i,:,:] = img_to_numpy_array(f[0])\n",
        "        print(\"hi train {}\".format(y_train[i]))\n",
        "    return x_train, y_train, x_test, y_test"
      ],
      "execution_count": 7,
      "outputs": []
    },
    {
      "cell_type": "code",
      "metadata": {
        "id": "nKEeX829mv_J"
      },
      "source": [
        "def create_model(trl, tel):\n",
        "    # train = pd.read_csv(\"train.csv\")\n",
        "    # test = pd.read_csv(\"test.csv\")\n",
        "    # x_train, y_train, x_test, y_test = train[\"path\"], train[\"label\"], test[\"path\"], test[\"label\"]\n",
        "    x_train, y_train, x_test, y_test = create_train_test(trl, tel)\n",
        "    print(\"Trainnnnnnnn {}\".format(y_train))\n",
        "    print(\"Size of Training Data:\", np.shape(x_train))\n",
        "    print(\"Size of Training Labels:\", np.shape(y_train))\n",
        "    print(\"Size of Test Data:\", np.shape(x_test))\n",
        "    print(\"Size of Test Labels:\", np.shape(y_test))\n",
        "    \n",
        "    # le = preprocessing.LabelEncoder()\n",
        "    le.fit([\"amerob\", \"blujay\", \"moudov\", \"norcar\"])\n",
        "    print(le.classes_)\n",
        "    print(\"Train {}\".format(y_train))\n",
        "    y_train = le.transform(y_train)\n",
        "    y_test = le.transform(y_test)\n",
        "    \n",
        "\n",
        "    y_train = np_utils.to_categorical(y_train, num_classes)\n",
        "    y_test = np_utils.to_categorical(y_test, num_classes)\n",
        "\n",
        "    print(\"HIiiiii\")\n",
        "    print(x_train.shape)\n",
        "    x_train = x_train.reshape(x_train.shape[0], imheight, imwidth, 1)\n",
        "    x_test = x_test.reshape(x_test.shape[0], imheight, imwidth, 1)\n",
        "    \n",
        "    input_shape = (imheight, imwidth, 1)\n",
        "    batch_size = 2\n",
        "    epochs = 1\n",
        "\n",
        "    model = Sequential()\n",
        "    model.add(Conv2D(32, kernel_size=(3, 3), activation='relu', input_shape=input_shape))\n",
        "    model.add(Conv2D(64, kernel_size=(3, 3), activation='relu'))\n",
        "    model.add(MaxPooling2D(pool_size=(2, 2)))\n",
        "    model.add(Flatten())\n",
        "    model.add(Dropout(0.25))    \n",
        "    model.add(Dense(128, activation='relu'))\n",
        "#     model.add(Flatten())\n",
        "    model.add(Dropout(0.5))\n",
        "    model.add(Dense(num_classes, activation='softmax'))\n",
        "    \n",
        "#     opt = keras.optimizers.Adam(learning_rate=0.01)\n",
        "\n",
        "    model.compile(loss=keras.losses.categorical_crossentropy, optimizer='adam', metrics=['accuracy'])\n",
        "    print(model.summary())\n",
        "\n",
        "    model.fit(x_train, y_train, batch_size=4, epochs=2, verbose=1, validation_data=(x_test, y_test))\n",
        "    return model"
      ],
      "execution_count": 8,
      "outputs": []
    },
    {
      "cell_type": "code",
      "metadata": {
        "colab": {
          "base_uri": "https://localhost:8080/",
          "height": 369
        },
        "id": "-Ri2BQjEmztw",
        "outputId": "45d941b8-f089-484a-fd17-9689ea555dce"
      },
      "source": [
        "directory = \"drive/MyDrive/Colab Notebooks/IndianaBirds\"\n",
        "\n",
        "\n",
        "trl, tel = create_spectrogram()\n",
        "list_to_csv(trl, tel)"
      ],
      "execution_count": 9,
      "outputs": [
        {
          "output_type": "display_data",
          "data": {
            "image/png": "[encoded data removed]",
            "text/plain": [
              "<Figure size 540x360 with 1 Axes>"
            ]
          },
          "metadata": {}
        }
      ]
    },
    {
      "cell_type": "code",
      "metadata": {
        "colab": {
          "base_uri": "https://localhost:8080/"
        },
        "id": "xTAj-aXsnr3U",
        "outputId": "38122ba5-a3e4-4d33-82bc-27f2e7744f43"
      },
      "source": [
        "num_classes = 4\n",
        "m = create_model(trl, tel)\n",
        "print(m.summary())"
      ],
      "execution_count": 10,
      "outputs": [
        {
          "output_type": "stream",
          "name": "stdout",
          "text": [
            "Shape (34, 1)\n",
            "hi train ['blujay']\n",
            "hi train ['blujay']\n",
            "hi train ['blujay']\n",
            "hi train ['blujay']\n",
            "hi train ['blujay']\n",
            "hi train ['blujay']\n",
            "hi train ['blujay']\n",
            "hi train ['blujay']\n",
            "hi train ['blujay']\n",
            "hi train ['blujay']\n",
            "hi train ['amerob']\n",
            "hi train ['amerob']\n",
            "hi train ['amerob']\n",
            "hi train ['amerob']\n",
            "hi train ['amerob']\n",
            "hi train ['amerob']\n",
            "hi train ['amerob']\n",
            "hi train ['amerob']\n",
            "hi train ['amerob']\n",
            "hi train ['amerob']\n",
            "hi train ['norcar']\n",
            "hi train ['norcar']\n",
            "hi train ['norcar']\n",
            "hi train ['norcar']\n",
            "hi train ['norcar']\n",
            "hi train ['norcar']\n",
            "hi train ['norcar']\n",
            "hi train ['norcar']\n",
            "hi train ['norcar']\n",
            "hi train ['norcar']\n",
            "hi train ['moudov']\n",
            "hi train ['moudov']\n",
            "hi train ['moudov']\n",
            "hi train ['moudov']\n",
            "Trainnnnnnnn [['blujay']\n",
            " ['blujay']\n",
            " ['blujay']\n",
            " ['blujay']\n",
            " ['blujay']\n",
            " ['blujay']\n",
            " ['blujay']\n",
            " ['blujay']\n",
            " ['blujay']\n",
            " ['blujay']\n",
            " ['amerob']\n",
            " ['amerob']\n",
            " ['amerob']\n",
            " ['amerob']\n",
            " ['amerob']\n",
            " ['amerob']\n",
            " ['amerob']\n",
            " ['amerob']\n",
            " ['amerob']\n",
            " ['amerob']\n",
            " ['norcar']\n",
            " ['norcar']\n",
            " ['norcar']\n",
            " ['norcar']\n",
            " ['norcar']\n",
            " ['norcar']\n",
            " ['norcar']\n",
            " ['norcar']\n",
            " ['norcar']\n",
            " ['norcar']\n",
            " ['moudov']\n",
            " ['moudov']\n",
            " ['moudov']\n",
            " ['moudov']]\n",
            "Size of Training Data: (34, 360, 540)\n",
            "Size of Training Labels: (34, 1)\n",
            "Size of Test Data: (17, 360, 540)\n",
            "Size of Test Labels: (17, 1)\n",
            "['amerob' 'blujay' 'moudov' 'norcar']\n",
            "Train [['blujay']\n",
            " ['blujay']\n",
            " ['blujay']\n",
            " ['blujay']\n",
            " ['blujay']\n",
            " ['blujay']\n",
            " ['blujay']\n",
            " ['blujay']\n",
            " ['blujay']\n",
            " ['blujay']\n",
            " ['amerob']\n",
            " ['amerob']\n",
            " ['amerob']\n",
            " ['amerob']\n",
            " ['amerob']\n",
            " ['amerob']\n",
            " ['amerob']\n",
            " ['amerob']\n",
            " ['amerob']\n",
            " ['amerob']\n",
            " ['norcar']\n",
            " ['norcar']\n",
            " ['norcar']\n",
            " ['norcar']\n",
            " ['norcar']\n",
            " ['norcar']\n",
            " ['norcar']\n",
            " ['norcar']\n",
            " ['norcar']\n",
            " ['norcar']\n",
            " ['moudov']\n",
            " ['moudov']\n",
            " ['moudov']\n",
            " ['moudov']]\n",
            "HIiiiii\n",
            "(34, 360, 540)\n"
          ]
        },
        {
          "output_type": "stream",
          "name": "stderr",
          "text": [
            "/usr/local/lib/python3.7/dist-packages/sklearn/preprocessing/_label.py:133: DataConversionWarning: A column-vector y was passed when a 1d array was expected. Please change the shape of y to (n_samples, ), for example using ravel().\n",
            "  y = column_or_1d(y, warn=True)\n"
          ]
        },
        {
          "output_type": "stream",
          "name": "stdout",
          "text": [
            "Model: \"sequential\"\n",
            "_________________________________________________________________\n",
            " Layer (type)                Output Shape              Param #   \n",
            "=================================================================\n",
            " conv2d (Conv2D)             (None, 358, 538, 32)      320       \n",
            "                                                                 \n",
            " conv2d_1 (Conv2D)           (None, 356, 536, 64)      18496     \n",
            "                                                                 \n",
            " max_pooling2d (MaxPooling2D  (None, 178, 268, 64)     0         \n",
            " )                                                               \n",
            "                                                                 \n",
            " flatten (Flatten)           (None, 3053056)           0         \n",
            "                                                                 \n",
            " dropout (Dropout)           (None, 3053056)           0         \n",
            "                                                                 \n",
            " dense (Dense)               (None, 128)               390791296 \n",
            "                                                                 \n",
            " dropout_1 (Dropout)         (None, 128)               0         \n",
            "                                                                 \n",
            " dense_1 (Dense)             (None, 4)                 516       \n",
            "                                                                 \n",
            "=================================================================\n",
            "Total params: 390,810,628\n",
            "Trainable params: 390,810,628\n",
            "Non-trainable params: 0\n",
            "_________________________________________________________________\n",
            "None\n",
            "Epoch 1/2\n",
            "9/9 [==============================] - 55s 6s/step - loss: 13.1990 - accuracy: 0.3529 - val_loss: 3.1140 - val_accuracy: 0.2353\n",
            "Epoch 2/2\n",
            "9/9 [==============================] - 51s 6s/step - loss: 1.8146 - accuracy: 0.2647 - val_loss: 1.3825 - val_accuracy: 0.2941\n",
            "Model: \"sequential\"\n",
            "_________________________________________________________________\n",
            " Layer (type)                Output Shape              Param #   \n",
            "=================================================================\n",
            " conv2d (Conv2D)             (None, 358, 538, 32)      320       \n",
            "                                                                 \n",
            " conv2d_1 (Conv2D)           (None, 356, 536, 64)      18496     \n",
            "                                                                 \n",
            " max_pooling2d (MaxPooling2D  (None, 178, 268, 64)     0         \n",
            " )                                                               \n",
            "                                                                 \n",
            " flatten (Flatten)           (None, 3053056)           0         \n",
            "                                                                 \n",
            " dropout (Dropout)           (None, 3053056)           0         \n",
            "                                                                 \n",
            " dense (Dense)               (None, 128)               390791296 \n",
            "                                                                 \n",
            " dropout_1 (Dropout)         (None, 128)               0         \n",
            "                                                                 \n",
            " dense_1 (Dense)             (None, 4)                 516       \n",
            "                                                                 \n",
            "=================================================================\n",
            "Total params: 390,810,628\n",
            "Trainable params: 390,810,628\n",
            "Non-trainable params: 0\n",
            "_________________________________________________________________\n",
            "None\n"
          ]
        }
      ]
    },
    {
      "cell_type": "code",
      "metadata": {
        "colab": {
          "base_uri": "https://localhost:8080/"
        },
        "id": "TkGbSUwFSYZj",
        "outputId": "9dd8003b-3470-45de-afcc-13992d12f1e1"
      },
      "source": [
        "temp = np.zeros((1, imheight, imwidth))\n",
        "temp[0,:,:] = img_to_numpy_array(\"drive/MyDrive/Colab Notebooks/Spectrograms/test_spectr/XC382741.png\")\n",
        "temp.reshape(temp.shape[0], imheight, imwidth, 1)\n",
        "output = np.array(m.predict(temp))\n",
        "print(output)\n",
        "# print(output[output.argmax()])\n",
        "predictions_test = le.inverse_transform([output.argmax()])\n",
        "print(predictions_test)"
      ],
      "execution_count": 12,
      "outputs": [
        {
          "output_type": "stream",
          "name": "stdout",
          "text": [
            "[[0.23532616 0.2531668  0.23527177 0.27623528]]\n",
            "['norcar']\n"
          ]
        }
      ]
    }
  ]
}